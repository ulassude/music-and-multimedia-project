{
 "cells": [
  {
   "cell_type": "code",
   "execution_count": null,
   "id": "2d05d18f-0dfc-4c6e-84ae-e4b6034d358d",
   "metadata": {},
   "outputs": [],
   "source": [
    "import numpy as np\n",
    "from scipy.signal import wiener\n",
    "import soundfile as sf"
   ]
  },
  {
   "cell_type": "code",
   "execution_count": 4,
   "id": "f02431dd-c8e0-4590-8319-e1d269bdfd47",
   "metadata": {},
   "outputs": [],
   "source": [
    "def apply_wiener_denoise(audio_signal):\n",
    "    # Wiener filter noise reduction\n",
    "    return wiener(audio_signal,None, noise_power_db)"
   ]
  },
  {
   "cell_type": "code",
   "execution_count": 5,
   "id": "cb459a74-6edd-4f17-809e-1860de43acdc",
   "metadata": {},
   "outputs": [],
   "source": [
    "def apply_delay(audio, sample_rate, delay_ms=300, decay=0.5):\n",
    "    delay_samples = int(delay_ms * sample_rate / 1000)\n",
    "    output = np.zeros_like(audio)\n",
    "\n",
    "    for i in range(len(audio)):\n",
    "        output[i] = audio[i] + (decay * output[i - delay_samples] if i > delay_samples else 0)\n",
    "\n",
    "    return output  "
   ]
  },
  {
   "cell_type": "code",
   "execution_count": 3,
   "id": "d6633c99-382e-4f63-b519-adcf0e67dfaa",
   "metadata": {},
   "outputs": [],
   "source": [
    "def denoise_and_delay(input_path, output_path, delay_ms=300, decay=0.5):\n",
    "    # Load audio\n",
    "    audio_signal, sample_rate = sf.read(input_path)\n",
    "    \n",
    "    # Apply Wiener denoising\n",
    "    denoised = apply_wiener_denoise(audio_signal)\n",
    "\n",
    "    # Apply delay\n",
    "    delayed = apply_delay(denoised, sample_rate, delay_ms, decay)\n",
    "\n",
    "    # Save output\n",
    "    sf.write(output_path, delayed, sample_rate)"
   ]
  }
 ],
 "metadata": {
  "kernelspec": {
   "display_name": "Python 3 (ipykernel)",
   "language": "python",
   "name": "python3"
  },
  "language_info": {
   "codemirror_mode": {
    "name": "ipython",
    "version": 3
   },
   "file_extension": ".py",
   "mimetype": "text/x-python",
   "name": "python",
   "nbconvert_exporter": "python",
   "pygments_lexer": "ipython3",
   "version": "3.13.2"
  }
 },
 "nbformat": 4,
 "nbformat_minor": 5
}
