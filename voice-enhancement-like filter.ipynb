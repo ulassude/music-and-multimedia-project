{
 "cells": [
  {
   "cell_type": "code",
   "execution_count": null,
   "id": "e820b170-8439-40bf-91c2-6a925b192298",
   "metadata": {},
   "outputs": [],
   "source": [
    "#Simple voice-enhancement-like filter, okey"
   ]
  },
  {
   "cell_type": "code",
   "execution_count": null,
   "id": "89b56393-0b18-492f-8915-f0c357b69372",
   "metadata": {},
   "outputs": [],
   "source": [
    "import numpy as np\n",
    "from scipy.signal import butter, lfilter"
   ]
  },
  {
   "cell_type": "code",
   "execution_count": null,
   "id": "401ae57d-6109-4ae5-b21d-63318df83b01",
   "metadata": {},
   "outputs": [],
   "source": [
    "def voice_enhancement(audio_samples, sample_rate=44100, pre_emphasis_coeff):\n",
    "    \n",
    "     # pre-emphasis filter\n",
    "    emphasized_audio = pre_emphasis_filter(audio_samples, pre_emphasis_coeff)\n",
    "     # butterworth band-pass filter (800-6000 Hz)\n",
    "    enhanced_audio = butterworth_bandpass_filter(emphasized_audio, sample_rate)\n",
    "    \n",
    "    return enhanced_audio"
   ]
  },
  {
   "cell_type": "code",
   "execution_count": null,
   "id": "69165e67-12f7-4b1d-ac10-27421f102c5c",
   "metadata": {},
   "outputs": [],
   "source": [
    "\"\"\"The idea is to boost the frequency range that is most susceptible to noise and loss beforehand, \n",
    "so that after a noisy and lossy process more information can be recovered from that \n",
    "frequency range."
   ]
  },
  {
   "cell_type": "code",
   "execution_count": null,
   "id": "3966bbe6-27d1-468e-b136-5368c50e02de",
   "metadata": {},
   "outputs": [],
   "source": [
    "def pre_emphasis_filter(signal, coeff):\n",
    "    # numpy roll to shift the signal by 1 sample\n",
    "    return signal - coeff * np.roll(signal, 1)"
   ]
  },
  {
   "cell_type": "code",
   "execution_count": null,
   "id": "602288ca-0caf-4107-8cb0-c3a15b61da3e",
   "metadata": {},
   "outputs": [],
   "source": [
    "#The Butterworth filter is a type of signal processing filter designed \n",
    "#to have a frequency response that is as flat as possible in the passband."
   ]
  },
  {
   "cell_type": "code",
   "execution_count": null,
   "id": "34e52866-0773-421c-812b-43b1e83529e7",
   "metadata": {},
   "outputs": [],
   "source": [
    "\"\"\"\"An ideal electrical filter should not only completely reject the unwanted frequencies but should also have uniform sensitivity for the wanted frequencies\"."
   ]
  },
  {
   "cell_type": "code",
   "execution_count": null,
   "id": "16d8275d-6c91-4c4a-8b4a-be4f0c4641cd",
   "metadata": {},
   "outputs": [],
   "source": [
    "def butterworth_bandpass_filter(signal, sample_rate, lowcut=800, highcut=6000, order=5):\n",
    "    # Normalize frequencies by Nyquist frequency\n",
    "    nyq = 0.5 * sample_rate\n",
    "    low = lowcut / nyq\n",
    "    high = highcut / nyq\n",
    "\n",
    "    #design the filter\n",
    "    b, a = butter(order, [low, high], btype='band')\n",
    "\n",
    "    #apply the filter\n",
    "    filtered_signal = lfilter(b, a, signal)\n",
    "    \n",
    "    return filtered_signal"
   ]
  }
 ],
 "metadata": {
  "kernelspec": {
   "display_name": "Python 3 (ipykernel)",
   "language": "python",
   "name": "python3"
  },
  "language_info": {
   "codemirror_mode": {
    "name": "ipython",
    "version": 3
   },
   "file_extension": ".py",
   "mimetype": "text/x-python",
   "name": "python",
   "nbconvert_exporter": "python",
   "pygments_lexer": "ipython3",
   "version": "3.13.2"
  }
 },
 "nbformat": 4,
 "nbformat_minor": 5
}
